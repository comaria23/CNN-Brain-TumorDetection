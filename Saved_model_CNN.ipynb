{
  "nbformat": 4,
  "nbformat_minor": 0,
  "metadata": {
    "colab": {
      "provenance": [],
      "authorship_tag": "ABX9TyNJImg3orl3tWtfrc1ym5oG",
      "include_colab_link": true
    },
    "kernelspec": {
      "name": "python3",
      "display_name": "Python 3"
    },
    "language_info": {
      "name": "python"
    },
    "widgets": {
      "application/vnd.jupyter.widget-state+json": {
        "0cf075ad05774ff99f202b96192de486": {
          "model_module": "@jupyter-widgets/controls",
          "model_name": "FileUploadModel",
          "model_module_version": "1.5.0",
          "state": {
            "_counter": 0,
            "_dom_classes": [],
            "_model_module": "@jupyter-widgets/controls",
            "_model_module_version": "1.5.0",
            "_model_name": "FileUploadModel",
            "_view_count": null,
            "_view_module": "@jupyter-widgets/controls",
            "_view_module_version": "1.5.0",
            "_view_name": "FileUploadView",
            "accept": "",
            "button_style": "",
            "data": [],
            "description": "Upload",
            "description_tooltip": null,
            "disabled": false,
            "error": "",
            "icon": "upload",
            "layout": "IPY_MODEL_f85d1f991a4c452e8e5d56414bdccdbe",
            "metadata": [],
            "multiple": false,
            "style": "IPY_MODEL_b15c21e293194a3b898e7a5854c4aa3a"
          }
        },
        "f85d1f991a4c452e8e5d56414bdccdbe": {
          "model_module": "@jupyter-widgets/base",
          "model_name": "LayoutModel",
          "model_module_version": "1.2.0",
          "state": {
            "_model_module": "@jupyter-widgets/base",
            "_model_module_version": "1.2.0",
            "_model_name": "LayoutModel",
            "_view_count": null,
            "_view_module": "@jupyter-widgets/base",
            "_view_module_version": "1.2.0",
            "_view_name": "LayoutView",
            "align_content": null,
            "align_items": null,
            "align_self": null,
            "border": null,
            "bottom": null,
            "display": null,
            "flex": null,
            "flex_flow": null,
            "grid_area": null,
            "grid_auto_columns": null,
            "grid_auto_flow": null,
            "grid_auto_rows": null,
            "grid_column": null,
            "grid_gap": null,
            "grid_row": null,
            "grid_template_areas": null,
            "grid_template_columns": null,
            "grid_template_rows": null,
            "height": null,
            "justify_content": null,
            "justify_items": null,
            "left": null,
            "margin": null,
            "max_height": null,
            "max_width": null,
            "min_height": null,
            "min_width": null,
            "object_fit": null,
            "object_position": null,
            "order": null,
            "overflow": null,
            "overflow_x": null,
            "overflow_y": null,
            "padding": null,
            "right": null,
            "top": null,
            "visibility": null,
            "width": null
          }
        },
        "b15c21e293194a3b898e7a5854c4aa3a": {
          "model_module": "@jupyter-widgets/controls",
          "model_name": "ButtonStyleModel",
          "model_module_version": "1.5.0",
          "state": {
            "_model_module": "@jupyter-widgets/controls",
            "_model_module_version": "1.5.0",
            "_model_name": "ButtonStyleModel",
            "_view_count": null,
            "_view_module": "@jupyter-widgets/base",
            "_view_module_version": "1.2.0",
            "_view_name": "StyleView",
            "button_color": null,
            "font_weight": ""
          }
        },
        "b5cb39da5f1045dfbbfaf3aea93c3cc2": {
          "model_module": "@jupyter-widgets/controls",
          "model_name": "VBoxModel",
          "model_module_version": "1.5.0",
          "state": {
            "_dom_classes": [],
            "_model_module": "@jupyter-widgets/controls",
            "_model_module_version": "1.5.0",
            "_model_name": "VBoxModel",
            "_view_count": null,
            "_view_module": "@jupyter-widgets/controls",
            "_view_module_version": "1.5.0",
            "_view_name": "VBoxView",
            "box_style": "",
            "children": [
              "IPY_MODEL_8ed475546eb544b0b579d13898e2da5d",
              "IPY_MODEL_4a4f6c7712014da394da92b4b3023197"
            ],
            "layout": "IPY_MODEL_71c14a06830f47dfbee169e7ac622408"
          }
        },
        "8ed475546eb544b0b579d13898e2da5d": {
          "model_module": "@jupyter-widgets/controls",
          "model_name": "ButtonModel",
          "model_module_version": "1.5.0",
          "state": {
            "_dom_classes": [],
            "_model_module": "@jupyter-widgets/controls",
            "_model_module_version": "1.5.0",
            "_model_name": "ButtonModel",
            "_view_count": null,
            "_view_module": "@jupyter-widgets/controls",
            "_view_module_version": "1.5.0",
            "_view_name": "ButtonView",
            "button_style": "",
            "description": "Predictie",
            "disabled": false,
            "icon": "",
            "layout": "IPY_MODEL_ec0fd52f6dc74252897b8fca6ef857b1",
            "style": "IPY_MODEL_3dd3ee05e33e473381c7f2eb51b17f78",
            "tooltip": ""
          }
        },
        "4a4f6c7712014da394da92b4b3023197": {
          "model_module": "@jupyter-widgets/output",
          "model_name": "OutputModel",
          "model_module_version": "1.0.0",
          "state": {
            "_dom_classes": [],
            "_model_module": "@jupyter-widgets/output",
            "_model_module_version": "1.0.0",
            "_model_name": "OutputModel",
            "_view_count": null,
            "_view_module": "@jupyter-widgets/output",
            "_view_module_version": "1.0.0",
            "_view_name": "OutputView",
            "layout": "IPY_MODEL_a6c03ed42dc340cda3e2f0e3ae03eda9",
            "msg_id": "",
            "outputs": []
          }
        },
        "71c14a06830f47dfbee169e7ac622408": {
          "model_module": "@jupyter-widgets/base",
          "model_name": "LayoutModel",
          "model_module_version": "1.2.0",
          "state": {
            "_model_module": "@jupyter-widgets/base",
            "_model_module_version": "1.2.0",
            "_model_name": "LayoutModel",
            "_view_count": null,
            "_view_module": "@jupyter-widgets/base",
            "_view_module_version": "1.2.0",
            "_view_name": "LayoutView",
            "align_content": null,
            "align_items": null,
            "align_self": null,
            "border": null,
            "bottom": null,
            "display": null,
            "flex": null,
            "flex_flow": null,
            "grid_area": null,
            "grid_auto_columns": null,
            "grid_auto_flow": null,
            "grid_auto_rows": null,
            "grid_column": null,
            "grid_gap": null,
            "grid_row": null,
            "grid_template_areas": null,
            "grid_template_columns": null,
            "grid_template_rows": null,
            "height": null,
            "justify_content": null,
            "justify_items": null,
            "left": null,
            "margin": null,
            "max_height": null,
            "max_width": null,
            "min_height": null,
            "min_width": null,
            "object_fit": null,
            "object_position": null,
            "order": null,
            "overflow": null,
            "overflow_x": null,
            "overflow_y": null,
            "padding": null,
            "right": null,
            "top": null,
            "visibility": null,
            "width": null
          }
        },
        "ec0fd52f6dc74252897b8fca6ef857b1": {
          "model_module": "@jupyter-widgets/base",
          "model_name": "LayoutModel",
          "model_module_version": "1.2.0",
          "state": {
            "_model_module": "@jupyter-widgets/base",
            "_model_module_version": "1.2.0",
            "_model_name": "LayoutModel",
            "_view_count": null,
            "_view_module": "@jupyter-widgets/base",
            "_view_module_version": "1.2.0",
            "_view_name": "LayoutView",
            "align_content": null,
            "align_items": null,
            "align_self": null,
            "border": null,
            "bottom": null,
            "display": null,
            "flex": null,
            "flex_flow": null,
            "grid_area": null,
            "grid_auto_columns": null,
            "grid_auto_flow": null,
            "grid_auto_rows": null,
            "grid_column": null,
            "grid_gap": null,
            "grid_row": null,
            "grid_template_areas": null,
            "grid_template_columns": null,
            "grid_template_rows": null,
            "height": null,
            "justify_content": null,
            "justify_items": null,
            "left": null,
            "margin": null,
            "max_height": null,
            "max_width": null,
            "min_height": null,
            "min_width": null,
            "object_fit": null,
            "object_position": null,
            "order": null,
            "overflow": null,
            "overflow_x": null,
            "overflow_y": null,
            "padding": null,
            "right": null,
            "top": null,
            "visibility": null,
            "width": null
          }
        },
        "3dd3ee05e33e473381c7f2eb51b17f78": {
          "model_module": "@jupyter-widgets/controls",
          "model_name": "ButtonStyleModel",
          "model_module_version": "1.5.0",
          "state": {
            "_model_module": "@jupyter-widgets/controls",
            "_model_module_version": "1.5.0",
            "_model_name": "ButtonStyleModel",
            "_view_count": null,
            "_view_module": "@jupyter-widgets/base",
            "_view_module_version": "1.2.0",
            "_view_name": "StyleView",
            "button_color": null,
            "font_weight": ""
          }
        },
        "a6c03ed42dc340cda3e2f0e3ae03eda9": {
          "model_module": "@jupyter-widgets/base",
          "model_name": "LayoutModel",
          "model_module_version": "1.2.0",
          "state": {
            "_model_module": "@jupyter-widgets/base",
            "_model_module_version": "1.2.0",
            "_model_name": "LayoutModel",
            "_view_count": null,
            "_view_module": "@jupyter-widgets/base",
            "_view_module_version": "1.2.0",
            "_view_name": "LayoutView",
            "align_content": null,
            "align_items": null,
            "align_self": null,
            "border": null,
            "bottom": null,
            "display": null,
            "flex": null,
            "flex_flow": null,
            "grid_area": null,
            "grid_auto_columns": null,
            "grid_auto_flow": null,
            "grid_auto_rows": null,
            "grid_column": null,
            "grid_gap": null,
            "grid_row": null,
            "grid_template_areas": null,
            "grid_template_columns": null,
            "grid_template_rows": null,
            "height": null,
            "justify_content": null,
            "justify_items": null,
            "left": null,
            "margin": null,
            "max_height": null,
            "max_width": null,
            "min_height": null,
            "min_width": null,
            "object_fit": null,
            "object_position": null,
            "order": null,
            "overflow": null,
            "overflow_x": null,
            "overflow_y": null,
            "padding": null,
            "right": null,
            "top": null,
            "visibility": null,
            "width": null
          }
        }
      }
    }
  },
  "cells": [
    {
      "cell_type": "markdown",
      "metadata": {
        "id": "view-in-github",
        "colab_type": "text"
      },
      "source": [
        "<a href=\"https://colab.research.google.com/github/comaria23/CNN-Brain-TumorDetection/blob/main/Saved_model_CNN.ipynb\" target=\"_parent\"><img src=\"https://colab.research.google.com/assets/colab-badge.svg\" alt=\"Open In Colab\"/></a>"
      ]
    },
    {
      "cell_type": "code",
      "execution_count": 1,
      "metadata": {
        "id": "zwJHJ_eXXTHR"
      },
      "outputs": [],
      "source": [
        "import matplotlib.pyplot as plt\n",
        "import matplotlib.pyplot as plt\n",
        "import numpy as np\n",
        "import pandas as pd\n",
        "import seaborn as sns\n",
        "import cv2\n",
        "import tensorflow as tf\n",
        "from tensorflow.keras.preprocessing.image import ImageDataGenerator\n",
        "from tqdm import tqdm\n",
        "import os\n",
        "from sklearn.utils import shuffle\n",
        "from sklearn.model_selection import train_test_split\n",
        "from tensorflow.keras.applications import EfficientNetB0\n",
        "from tensorflow.keras.callbacks import EarlyStopping, ReduceLROnPlateau, TensorBoard, ModelCheckpoint\n",
        "from sklearn.metrics import classification_report,confusion_matrix\n",
        "import ipywidgets as widgets\n",
        "import io\n",
        "from PIL import Image\n",
        "from IPython.display import display,clear_output\n",
        "from warnings import filterwarnings"
      ]
    },
    {
      "cell_type": "code",
      "source": [
        "from google.colab import drive\n",
        "drive.mount('/content/gdrive')"
      ],
      "metadata": {
        "colab": {
          "base_uri": "https://localhost:8080/"
        },
        "id": "fPbZNU2SX-Sh",
        "outputId": "4f7320bc-0253-4e63-9e9c-0038ec7242fe"
      },
      "execution_count": 2,
      "outputs": [
        {
          "output_type": "stream",
          "name": "stdout",
          "text": [
            "Mounted at /content/gdrive\n"
          ]
        }
      ]
    },
    {
      "cell_type": "code",
      "source": [
        "labels = ['glioma','notumor','meningioma','pituitary']"
      ],
      "metadata": {
        "id": "v7bhmpXaYkZh"
      },
      "execution_count": 3,
      "outputs": []
    },
    {
      "cell_type": "code",
      "source": [
        "X_train = []\n",
        "y_train = []\n",
        "X_test=[]\n",
        "y_test=[]\n",
        "image_size = 224\n",
        "for i in labels:\n",
        "    folderPath = os.path.join('/content/gdrive/My Drive/Date_disertatie','Training',i)\n",
        "    for j in tqdm(os.listdir(folderPath)):\n",
        "        img = cv2.imread(os.path.join(folderPath,j))\n",
        "        img = cv2.resize(img,(image_size, image_size))\n",
        "        X_train.append(img)\n",
        "        y_train.append(i)\n",
        "\n",
        "for i in labels:\n",
        "    folderPath = os.path.join('/content/gdrive/My Drive/Date_disertatie','Testing',i)\n",
        "    for j in tqdm(os.listdir(folderPath)):\n",
        "        img = cv2.imread(os.path.join(folderPath,j))\n",
        "        img = cv2.resize(img,(image_size,image_size))\n",
        "        X_test.append(img)\n",
        "        y_test.append(i)\n",
        "\n",
        "X_train = np.array(X_train)\n",
        "X_test= np.array(X_test)"
      ],
      "metadata": {
        "colab": {
          "base_uri": "https://localhost:8080/"
        },
        "id": "g4Fsk-FuYb8Z",
        "outputId": "2db31a32-982e-4f58-d146-d8c21c18944c"
      },
      "execution_count": 4,
      "outputs": [
        {
          "output_type": "stream",
          "name": "stderr",
          "text": [
            "100%|██████████| 1321/1321 [01:05<00:00, 20.10it/s]\n",
            "100%|██████████| 1595/1595 [00:52<00:00, 30.32it/s] \n",
            "100%|██████████| 1339/1339 [01:25<00:00, 15.57it/s]\n",
            "100%|██████████| 1457/1457 [00:50<00:00, 29.02it/s]\n",
            "100%|██████████| 300/300 [00:06<00:00, 43.34it/s]\n",
            "100%|██████████| 405/405 [00:10<00:00, 40.23it/s] \n",
            "100%|██████████| 306/306 [00:07<00:00, 43.63it/s]\n",
            "100%|██████████| 300/300 [00:09<00:00, 32.23it/s]\n"
          ]
        }
      ]
    },
    {
      "cell_type": "code",
      "source": [
        "y_train_ = []\n",
        "for i in y_train:\n",
        "    y_train_.append(labels.index(i))\n",
        "Y_train = y_train_\n",
        "\n",
        "Y_train = tf.keras.utils.to_categorical(Y_train)\n",
        "\n",
        "y_test_ = []\n",
        "for i in y_test:\n",
        "    y_test_.append(labels.index(i))\n",
        "Y_test = y_test_\n",
        "\n",
        "Y_test = tf.keras.utils.to_categorical(Y_test)"
      ],
      "metadata": {
        "id": "BfgG9yUfZuU4"
      },
      "execution_count": 5,
      "outputs": []
    },
    {
      "cell_type": "code",
      "source": [
        "new_model = tf.keras.models.load_model('/content/gdrive/My Drive/Colab Notebooks/brain_tumor_classification.h5')"
      ],
      "metadata": {
        "id": "spI1hd1BXuw5"
      },
      "execution_count": 6,
      "outputs": []
    },
    {
      "cell_type": "code",
      "source": [
        "pred = new_model.predict(X_test)\n",
        "pred = np.argmax(pred,axis=1)\n",
        "y_test_new = np.argmax(Y_test,axis=1)"
      ],
      "metadata": {
        "id": "BakIt008YSO-",
        "colab": {
          "base_uri": "https://localhost:8080/"
        },
        "outputId": "ce79b040-b69a-48d7-b303-36374fe6ae8a"
      },
      "execution_count": null,
      "outputs": [
        {
          "output_type": "stream",
          "name": "stdout",
          "text": [
            "29/41 [====================>.........] - ETA: 27s"
          ]
        }
      ]
    },
    {
      "cell_type": "code",
      "source": [
        "def img_pred(upload):\n",
        "    for name, file_info in uploader.value.items():\n",
        "        img = Image.open(io.BytesIO(file_info['content']))\n",
        "    opencvImage = cv2.cvtColor(np.array(img), cv2.COLOR_RGB2BGR)\n",
        "    img = cv2.resize(opencvImage,(224,224))\n",
        "    img = img.reshape(1,224,224,3)\n",
        "    p = new_model.predict(img)\n",
        "    p = np.argmax(p,axis=1)[0]\n",
        "\n",
        "    if p==0:\n",
        "        p='Glioma'\n",
        "    elif p==1:\n",
        "        p='No Tumor'\n",
        "    elif p==2:\n",
        "        print('Meningioma')\n",
        "    else:\n",
        "        p='Pituitary Tumor'\n",
        "\n",
        "    if p!=2:\n",
        "        print(f'Prediction: {p}')"
      ],
      "metadata": {
        "id": "22_6jyKsaaAH"
      },
      "execution_count": null,
      "outputs": []
    },
    {
      "cell_type": "code",
      "source": [
        "uploader = widgets.FileUpload()\n",
        "display(uploader)\n",
        "button = widgets.Button(description='Prediction')\n",
        "out = widgets.Output()\n",
        "def on_button_clicked(_):\n",
        "    with out:\n",
        "        clear_output()\n",
        "        try:\n",
        "            img_pred(uploader)\n",
        "        except:\n",
        "            print('Error')\n",
        "button.on_click(on_button_clicked)\n",
        "widgets.VBox([button,out])"
      ],
      "metadata": {
        "colab": {
          "base_uri": "https://localhost:8080/",
          "height": 81,
          "referenced_widgets": [
            "0cf075ad05774ff99f202b96192de486",
            "f85d1f991a4c452e8e5d56414bdccdbe",
            "b15c21e293194a3b898e7a5854c4aa3a",
            "b5cb39da5f1045dfbbfaf3aea93c3cc2",
            "8ed475546eb544b0b579d13898e2da5d",
            "4a4f6c7712014da394da92b4b3023197",
            "71c14a06830f47dfbee169e7ac622408",
            "ec0fd52f6dc74252897b8fca6ef857b1",
            "3dd3ee05e33e473381c7f2eb51b17f78",
            "a6c03ed42dc340cda3e2f0e3ae03eda9"
          ]
        },
        "id": "guBVVuPBagUw",
        "outputId": "06228b88-216d-42ee-98f8-3cf1ae2edbff"
      },
      "execution_count": null,
      "outputs": [
        {
          "output_type": "display_data",
          "data": {
            "text/plain": [
              "FileUpload(value={}, description='Upload')"
            ],
            "application/vnd.jupyter.widget-view+json": {
              "version_major": 2,
              "version_minor": 0,
              "model_id": "0cf075ad05774ff99f202b96192de486"
            }
          },
          "metadata": {}
        },
        {
          "output_type": "display_data",
          "data": {
            "text/plain": [
              "VBox(children=(Button(description='Predictie', style=ButtonStyle()), Output()))"
            ],
            "application/vnd.jupyter.widget-view+json": {
              "version_major": 2,
              "version_minor": 0,
              "model_id": "b5cb39da5f1045dfbbfaf3aea93c3cc2"
            }
          },
          "metadata": {}
        }
      ]
    },
    {
      "cell_type": "code",
      "source": [
        "test_pred = new_model.predict(X_test)\n",
        "test_pred = np.argmax(test_pred, axis=1)\n",
        "Y_test_ = np.argmax(Y_test, axis=1)\n",
        "print(\"Acuracy for test set: {:.2f}%\".format(np.sum(test_pred==Y_test_)/len(Y_test_)*100))"
      ],
      "metadata": {
        "colab": {
          "base_uri": "https://localhost:8080/"
        },
        "id": "uT_oRcEkcTBC",
        "outputId": "ca5eb881-57b5-4394-d22e-6e19262543ea"
      },
      "execution_count": null,
      "outputs": [
        {
          "output_type": "stream",
          "name": "stdout",
          "text": [
            "Acuratetea pe setul de testare: 98.86%\n"
          ]
        }
      ]
    },
    {
      "cell_type": "code",
      "source": [
        "train_pred = new_model.predict(X_train)\n",
        "train_pred = np.argmax(train_pred, axis=1)\n",
        "Y_train_new = np.argmax(Y_train, axis=1)\n",
        "print(\"Acuracy for training set: {:.2f}%\".format(np.sum(train_pred==Y_train_new)/len(Y_train_new)*100))"
      ],
      "metadata": {
        "colab": {
          "base_uri": "https://localhost:8080/"
        },
        "id": "_KNy3sfZfyhz",
        "outputId": "2c152f7f-3043-41f2-d6df-a60bfde750e9"
      },
      "execution_count": null,
      "outputs": [
        {
          "output_type": "stream",
          "name": "stdout",
          "text": [
            "Acuratetea pentru setul de antrenare: 99.63%\n"
          ]
        }
      ]
    }
  ]
}